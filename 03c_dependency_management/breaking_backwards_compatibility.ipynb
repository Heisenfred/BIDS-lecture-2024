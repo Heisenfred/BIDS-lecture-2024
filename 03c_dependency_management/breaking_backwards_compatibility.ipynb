{
 "cells": [
  {
   "cell_type": "markdown",
   "id": "0220c9fc-c7d7-4374-830b-017ba97a9d86",
   "metadata": {},
   "source": [
    "# Breaking dependencies\n",
    "\n",
    "This notebook will most likely not work anymore. Find out why.\n",
    "\n",
    "Propose two solutions for fixing it:\n",
    "* By changing the code in the notebook\n",
    "* By not changing the code in the notebook"
   ]
  },
  {
   "cell_type": "code",
   "execution_count": 1,
   "id": "9e0914d7-1535-448c-bdd1-6c124a88df0e",
   "metadata": {},
   "outputs": [],
   "source": [
    "from skimage.filters import median\n",
    "import numpy as np"
   ]
  },
  {
   "cell_type": "code",
   "execution_count": 2,
   "id": "4ffbb528-0df7-4c88-82cb-780e97c1532d",
   "metadata": {},
   "outputs": [],
   "source": [
    "image = np.asarray([\n",
    "    [1, 1, 1, 2, 2],\n",
    "    [1, 1, 2, 2, 2],\n",
    "    [1, 1, 1, 2, 2],\n",
    "    [1, 1, 1, 1, 2],\n",
    "    [1, 1, 1, 2, 2],\n",
    "])\n",
    "\n",
    "mask = np.ones((3,3))"
   ]
  },
  {
   "cell_type": "code",
   "execution_count": 3,
   "id": "ebdf59fb-0919-497b-a6c8-36c63fbd3ab0",
   "metadata": {},
   "outputs": [
    {
     "name": "stderr",
     "output_type": "stream",
     "text": [
      "C:\\Users\\haase\\AppData\\Local\\Temp\\ipykernel_6104\\4216709617.py:1: FutureWarning: `selem` is a deprecated argument name for `median`. It will be removed in version 1.0. Please use `footprint` instead.\n",
      "  filtered = median(image, selem=mask)\n"
     ]
    },
    {
     "data": {
      "text/plain": [
       "array([[1, 1, 1, 2, 2],\n",
       "       [1, 1, 1, 2, 2],\n",
       "       [1, 1, 1, 2, 2],\n",
       "       [1, 1, 1, 2, 2],\n",
       "       [1, 1, 1, 2, 2]])"
      ]
     },
     "execution_count": 3,
     "metadata": {},
     "output_type": "execute_result"
    }
   ],
   "source": [
    "filtered = median(image, selem=mask)\n",
    "\n",
    "filtered"
   ]
  },
  {
   "cell_type": "code",
   "execution_count": null,
   "id": "d3b6c742-a42c-4f14-a1c8-16717134d203",
   "metadata": {},
   "outputs": [],
   "source": []
  }
 ],
 "metadata": {
  "kernelspec": {
   "display_name": "Python 3 (ipykernel)",
   "language": "python",
   "name": "python3"
  },
  "language_info": {
   "codemirror_mode": {
    "name": "ipython",
    "version": 3
   },
   "file_extension": ".py",
   "mimetype": "text/x-python",
   "name": "python",
   "nbconvert_exporter": "python",
   "pygments_lexer": "ipython3",
   "version": "3.9.16"
  }
 },
 "nbformat": 4,
 "nbformat_minor": 5
}
