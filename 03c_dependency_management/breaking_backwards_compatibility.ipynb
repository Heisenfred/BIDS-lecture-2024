{
 "cells": [
  {
   "cell_type": "markdown",
   "id": "0220c9fc-c7d7-4374-830b-017ba97a9d86",
   "metadata": {},
   "source": [
    "# Breaking dependencies\n",
    "\n",
    "This notebook will most likely not work anymore. Find out why.\n",
    "\n",
    "Propose two solutions for fixing it:\n",
    "* By changing the code in the notebook\n",
    "* By not changing the code in the notebook"
   ]
  },
  {
   "cell_type": "code",
   "execution_count": 1,
   "id": "9e0914d7-1535-448c-bdd1-6c124a88df0e",
   "metadata": {},
   "outputs": [],
   "source": [
    "from skimage.filters import median\n",
    "import numpy as np"
   ]
  },
  {
   "cell_type": "code",
   "execution_count": 2,
   "id": "4ffbb528-0df7-4c88-82cb-780e97c1532d",
   "metadata": {},
   "outputs": [],
   "source": [
    "image = np.asarray([\n",
    "    [1, 1, 1, 2, 2],\n",
    "    [1, 1, 2, 2, 2],\n",
    "    [1, 1, 1, 2, 2],\n",
    "    [1, 1, 1, 1, 2],\n",
    "    [1, 1, 1, 2, 2],\n",
    "])\n",
    "\n",
    "mask = np.ones((3,3))"
   ]
  },
  {
   "cell_type": "code",
   "execution_count": 3,
   "id": "ebdf59fb-0919-497b-a6c8-36c63fbd3ab0",
   "metadata": {},
   "outputs": [
    {
     "ename": "TypeError",
     "evalue": "median() got an unexpected keyword argument 'selem'",
     "output_type": "error",
     "traceback": [
      "\u001b[1;31m-------------------------------------------------------------\u001b[0m",
      "\u001b[1;31mTypeError\u001b[0m                   Traceback (most recent call last)",
      "Cell \u001b[1;32mIn[3], line 1\u001b[0m\n\u001b[1;32m----> 1\u001b[0m filtered \u001b[38;5;241m=\u001b[39m \u001b[43mmedian\u001b[49m\u001b[43m(\u001b[49m\u001b[43mimage\u001b[49m\u001b[43m,\u001b[49m\u001b[43m \u001b[49m\u001b[43mselem\u001b[49m\u001b[38;5;241;43m=\u001b[39;49m\u001b[43mmask\u001b[49m\u001b[43m)\u001b[49m\n\u001b[0;32m      3\u001b[0m filtered\n",
      "\u001b[1;31mTypeError\u001b[0m: median() got an unexpected keyword argument 'selem'"
     ]
    }
   ],
   "source": [
    "filtered = median(image, selem=mask)\n",
    "\n",
    "filtered"
   ]
  },
  {
   "cell_type": "code",
   "execution_count": null,
   "id": "d3b6c742-a42c-4f14-a1c8-16717134d203",
   "metadata": {},
   "outputs": [],
   "source": []
  }
 ],
 "metadata": {
  "kernelspec": {
   "display_name": "Python 3 (ipykernel)",
   "language": "python",
   "name": "python3"
  },
  "language_info": {
   "codemirror_mode": {
    "name": "ipython",
    "version": 3
   },
   "file_extension": ".py",
   "mimetype": "text/x-python",
   "name": "python",
   "nbconvert_exporter": "python",
   "pygments_lexer": "ipython3",
   "version": "3.9.16"
  }
 },
 "nbformat": 4,
 "nbformat_minor": 5
}
